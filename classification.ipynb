{
 "cells": [
  {
   "cell_type": "code",
   "execution_count": null,
   "metadata": {},
   "outputs": [],
   "source": [
    "from scipy.stats import expon\n",
    "from sklearn import svm\n",
    "from sklearn.model_selection import RandomizedSearchCV\n",
    "import pickle\n",
    "import numpy as np\n",
    "import geopandas as gpd\n",
    "# from geopandas import GeoDataFrame\n",
    "import matplotlib\n",
    "from matplotlib import pyplot"
   ]
  },
  {
   "cell_type": "code",
   "execution_count": null,
   "metadata": {},
   "outputs": [],
   "source": [
    "def train(X, Y):\n",
    "    \"\"\"\n",
    "    Train classification algorithm.\n",
    "    \n",
    "    Train the Support Vector Machine classification algorithm using the\n",
    "    specified fields. \n",
    "\n",
    "    Parameters\n",
    "    ----------\n",
    "    X: numpy 2D array\n",
    "        A 2D numpy array where there is one row for each segment and each\n",
    "        column represents an attribute of the segments. \n",
    "\n",
    "    Y: numpy 1D array\n",
    "        A 1D numpy array equal in length to the number of records in segments.\n",
    "        The single column contains actual class values for each of the\n",
    "        segments.\n",
    "\n",
    "    output_filename: string\n",
    "        Output filename of the pickled trained SVM model.\n",
    "\n",
    "    Returns\n",
    "    -------\n",
    "    model: svm.SVC\n",
    "        Returns a trained SVM model that can be used to classify other data.\n",
    "\n",
    "    \"\"\"\n",
    "    clf = svm.SVC()\n",
    "        \n",
    "    # specify parameters and distributions to sample from\n",
    "    param_dist = {'C': expon(scale=100),\n",
    "                  'gamma': expon(scale=.1),\n",
    "                  'kernel': ['rbf'],\n",
    "                  'class_weight':['balanced', None]}\n",
    "\n",
    "    # run randomized search\n",
    "    n_iter_search = 20\n",
    "    random_search = RandomizedSearchCV(clf, param_distributions=param_dist,\n",
    "                                   n_iter=n_iter_search)\n",
    "\n",
    "    random_search.fit(X, Y) # this may take time...\n",
    "    \n",
    "    return random_search"
   ]
  },
  {
   "cell_type": "code",
   "execution_count": null,
   "metadata": {},
   "outputs": [],
   "source": [
    "def predict(model, X):\n",
    "    \"\"\"\n",
    "    Classify segments using a trained SVM model\n",
    "\n",
    "    Classify image segments using the trained Support Vector Machine model. \n",
    "\n",
    "    Parameters\n",
    "    ----------\n",
    "     model: svm.SVC\n",
    "        A trained SVM model that can be used to classify other data.\n",
    "\n",
    "    X: numpy 2D array\n",
    "        A 2D numpy array where there is one row for each segment and each\n",
    "        column represents an attribute of the segments. Identical to segments\n",
    "        from the train_classifier function.\n",
    "    \"\"\"\n",
    "    predictions = model.predict(X)\n",
    "\n",
    "    return predictions"
   ]
  },
  {
   "cell_type": "code",
   "execution_count": null,
   "metadata": {},
   "outputs": [],
   "source": [
    "for_training = gpd.read_file(\"rag_and_zonal_statistics/wetlands_update2.gpkg\", layer=\"ready2classify\")"
   ]
  },
  {
   "cell_type": "code",
   "execution_count": null,
   "metadata": {},
   "outputs": [],
   "source": [
    "for_training.head"
   ]
  },
  {
   "cell_type": "code",
   "execution_count": null,
   "metadata": {},
   "outputs": [],
   "source": [
    "big_train = for_training[~for_training[\"class\"].isnull()]"
   ]
  },
  {
   "cell_type": "code",
   "execution_count": null,
   "metadata": {},
   "outputs": [],
   "source": [
    "big_train.head"
   ]
  },
  {
   "cell_type": "code",
   "execution_count": null,
   "metadata": {},
   "outputs": [],
   "source": [
    "big_train.columns.values"
   ]
  },
  {
   "cell_type": "code",
   "execution_count": null,
   "metadata": {},
   "outputs": [],
   "source": [
    "labels = big_train['class']"
   ]
  },
  {
   "cell_type": "code",
   "execution_count": null,
   "metadata": {},
   "outputs": [],
   "source": [
    "labels"
   ]
  },
  {
   "cell_type": "code",
   "execution_count": null,
   "metadata": {},
   "outputs": [],
   "source": [
    "classes = big_train[['red_mean', 'green_mean', \"blue_mean\",\"nir_mean\", \"eccentricity\", \"orientation\", \"sobel_max\"]]"
   ]
  },
  {
   "cell_type": "code",
   "execution_count": null,
   "metadata": {},
   "outputs": [],
   "source": [
    "classes"
   ]
  },
  {
   "cell_type": "code",
   "execution_count": null,
   "metadata": {},
   "outputs": [],
   "source": [
    "type(classes)"
   ]
  },
  {
   "cell_type": "code",
   "execution_count": null,
   "metadata": {},
   "outputs": [],
   "source": [
    "type(labels)"
   ]
  },
  {
   "cell_type": "code",
   "execution_count": null,
   "metadata": {},
   "outputs": [],
   "source": [
    "model = train(classes, labels)"
   ]
  },
  {
   "cell_type": "code",
   "execution_count": null,
   "metadata": {},
   "outputs": [],
   "source": [
    "to_predict = for_training[['red_mean', 'green_mean', \"blue_mean\",\"nir_mean\", \"eccentricity\", \"orientation\", \"sobel_max\"]]"
   ]
  },
  {
   "cell_type": "code",
   "execution_count": null,
   "metadata": {},
   "outputs": [],
   "source": [
    "to_predict"
   ]
  },
  {
   "cell_type": "code",
   "execution_count": null,
   "metadata": {},
   "outputs": [],
   "source": [
    "output = predict(model, to_predict.values)"
   ]
  },
  {
   "cell_type": "code",
   "execution_count": null,
   "metadata": {},
   "outputs": [],
   "source": [
    "output"
   ]
  },
  {
   "cell_type": "code",
   "execution_count": null,
   "metadata": {},
   "outputs": [],
   "source": [
    "for_training['classified'] = output"
   ]
  },
  {
   "cell_type": "code",
   "execution_count": null,
   "metadata": {},
   "outputs": [],
   "source": [
    "for_training"
   ]
  },
  {
   "cell_type": "code",
   "execution_count": null,
   "metadata": {},
   "outputs": [],
   "source": [
    "for_training.to_file(\"rag_and_zonal_statistics/wetland_update_nir.gpkg\", layer=\"predictions\", driver=\"GPKG\")"
   ]
  },
  {
   "cell_type": "code",
   "execution_count": null,
   "metadata": {},
   "outputs": [],
   "source": []
  }
 ],
 "metadata": {
  "kernelspec": {
   "display_name": "Python 3",
   "language": "python",
   "name": "python3"
  },
  "language_info": {
   "codemirror_mode": {
    "name": "ipython",
    "version": 3
   },
   "file_extension": ".py",
   "mimetype": "text/x-python",
   "name": "python",
   "nbconvert_exporter": "python",
   "pygments_lexer": "ipython3",
   "version": "3.7.3"
  }
 },
 "nbformat": 4,
 "nbformat_minor": 4
}
