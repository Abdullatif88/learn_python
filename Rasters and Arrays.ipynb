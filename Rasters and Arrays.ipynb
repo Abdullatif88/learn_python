{
 "cells": [
  {
   "cell_type": "code",
   "execution_count": null,
   "metadata": {},
   "outputs": [],
   "source": [
    "import numpy as np"
   ]
  },
  {
   "cell_type": "markdown",
   "metadata": {},
   "source": [
    "# Different arrangements of arrays\n",
    "\n",
    "**Rasterio** is used to import/export raster data, including multi-band imagery. It structures its arrays in the following order: \\[bands\\]\\[rows\\]\\[columns\\]. This is the band sequential ordering.\n",
    "\n",
    "**Scikit-learn (sklearn)** is used for machine learning and includes algorithms for image classification, among other things. It structures its arrays as 2-dimensional arrays in the following order: \\[samples\\]\\[features\\].  The first element of the array is equivalent to a pixel and the second element is the band number. A Scikit-learn array is of size: \\[rows * columns\\]\\[bands\\]. \n",
    "\n",
    "**matplotlib** is a visualization library. It expects multi-dimensional arrays to be structured yet a third way: \\[rows\\]\\[columns\\]\\[bands\\]. This is equivalent to a band-interleaved by pixel ordering.\n",
    "\n",
    "---\n",
    "\n",
    "If you read/write image data using **Rasterio** and...\n",
    "\n",
    "...if you desire to apply machine learning algorithms to that image data using **Scikit-learn**, \n",
    "\n",
    "...and/or, if you desire to plot your data using **matplotlib**, then you will have to switch between array structures. \n",
    "\n",
    "This is a brief tutorial that shows you how to make these switches.\n",
    "\n",
    "---"
   ]
  },
  {
   "cell_type": "markdown",
   "metadata": {},
   "source": [
    "##### 1. Let's create an array that is equivalent to the array produced by Rasterio. We'll create a small Rasterio-style array with 3 bands, 4 rows and 5 columns. We'll create it in pieces to see the entire structure and all its values."
   ]
  },
  {
   "cell_type": "markdown",
   "metadata": {},
   "source": [
    "* First, create an image band (b1) with values 1 through 20"
   ]
  },
  {
   "cell_type": "code",
   "execution_count": null,
   "metadata": {},
   "outputs": [],
   "source": [
    "b1 = np.arange(1, 21, dtype=np.uint8).reshape(4,5)"
   ]
  },
  {
   "cell_type": "code",
   "execution_count": null,
   "metadata": {},
   "outputs": [],
   "source": [
    "b1"
   ]
  },
  {
   "cell_type": "markdown",
   "metadata": {},
   "source": [
    "* Second, create 2 more bands (b2 and b3) that are multiples of the first band (b1)."
   ]
  },
  {
   "cell_type": "code",
   "execution_count": null,
   "metadata": {},
   "outputs": [],
   "source": [
    "b2, b3 = b1 * 5, b1 * 10"
   ]
  },
  {
   "cell_type": "code",
   "execution_count": null,
   "metadata": {},
   "outputs": [],
   "source": [
    "b2"
   ]
  },
  {
   "cell_type": "code",
   "execution_count": null,
   "metadata": {},
   "outputs": [],
   "source": [
    "b3"
   ]
  },
  {
   "cell_type": "markdown",
   "metadata": {},
   "source": [
    "* Third, create a multi-band array from b1, b2 and b3."
   ]
  },
  {
   "cell_type": "code",
   "execution_count": null,
   "metadata": {},
   "outputs": [],
   "source": [
    "raster_like = np.array([b1, b2, b3])"
   ]
  },
  {
   "cell_type": "code",
   "execution_count": null,
   "metadata": {},
   "outputs": [],
   "source": [
    "raster_like"
   ]
  },
  {
   "cell_type": "code",
   "execution_count": null,
   "metadata": {},
   "outputs": [],
   "source": [
    "raster_like.shape"
   ]
  },
  {
   "cell_type": "markdown",
   "metadata": {},
   "source": [
    "##### There we go...an array with 3 bands, 4 rows and 5 columns. Since this is a small array we can see all the values and exactly where they are located in the array.\n",
    "\n",
    "##### 2. Now we will rearrange the array to the structure required by Scikit-learn."
   ]
  },
  {
   "cell_type": "code",
   "execution_count": null,
   "metadata": {},
   "outputs": [],
   "source": [
    "sklearn_like = raster_like.reshape(raster_like.shape[0], raster_like.shape[1]*raster_like.shape[2]).T"
   ]
  },
  {
   "cell_type": "markdown",
   "metadata": {},
   "source": [
    "_Notes_\n",
    "```\n",
    "--reshape(num_bands, num_rows * num_cols)\n",
    "\n",
    "--'.T' is equivalent to '.transpose()', both of which transpose the array.\n",
    "```"
   ]
  },
  {
   "cell_type": "code",
   "execution_count": null,
   "metadata": {},
   "outputs": [],
   "source": [
    "sklearn_like"
   ]
  },
  {
   "cell_type": "code",
   "execution_count": null,
   "metadata": {},
   "outputs": [],
   "source": [
    "sklearn_like.shape"
   ]
  },
  {
   "cell_type": "markdown",
   "metadata": {},
   "source": [
    "##### 3. Now let's go from an sklearn-like array back to a Rasterio-like array. It's easy."
   ]
  },
  {
   "cell_type": "code",
   "execution_count": null,
   "metadata": {},
   "outputs": [],
   "source": [
    "raster_like2 = sklearn_like.T.reshape(3,4,5)"
   ]
  },
  {
   "cell_type": "code",
   "execution_count": null,
   "metadata": {},
   "outputs": [],
   "source": [
    "raster_like2"
   ]
  },
  {
   "cell_type": "code",
   "execution_count": null,
   "metadata": {},
   "outputs": [],
   "source": [
    "raster_like"
   ]
  },
  {
   "cell_type": "markdown",
   "metadata": {},
   "source": [
    "#### 4. Now we'll transform from a Rasterio-like array to a matplotlib-like array. We'll use similar procedures to before."
   ]
  },
  {
   "cell_type": "code",
   "execution_count": null,
   "metadata": {},
   "outputs": [],
   "source": [
    "raster_like"
   ]
  },
  {
   "cell_type": "code",
   "execution_count": null,
   "metadata": {},
   "outputs": [],
   "source": [
    "matplotlib_like = np.transpose(raster_like, [1, 2, 0])"
   ]
  },
  {
   "cell_type": "code",
   "execution_count": null,
   "metadata": {},
   "outputs": [],
   "source": [
    "matplotlib_like.shape"
   ]
  },
  {
   "cell_type": "code",
   "execution_count": null,
   "metadata": {},
   "outputs": [],
   "source": [
    "matplotlib_like"
   ]
  },
  {
   "cell_type": "markdown",
   "metadata": {},
   "source": [
    "##### 5. Let's display this."
   ]
  },
  {
   "cell_type": "code",
   "execution_count": null,
   "metadata": {},
   "outputs": [],
   "source": [
    "%matplotlib inline \n",
    "# for an interactive plot, use '%matplotlib notebook' instead of '%matplotlib inline'\n",
    "import matplotlib.pyplot as plt"
   ]
  },
  {
   "cell_type": "code",
   "execution_count": null,
   "metadata": {},
   "outputs": [],
   "source": [
    "plt.imshow(matplotlib_like)"
   ]
  },
  {
   "cell_type": "markdown",
   "metadata": {},
   "source": [
    "##### 6. Finally, let's go from a matplotlib-like array to a Rasterio-like array."
   ]
  },
  {
   "cell_type": "code",
   "execution_count": null,
   "metadata": {},
   "outputs": [],
   "source": [
    "raster_like3 = np.transpose(matplotlib_like, [2, 0, 1])"
   ]
  },
  {
   "cell_type": "code",
   "execution_count": null,
   "metadata": {},
   "outputs": [],
   "source": [
    "raster_like3"
   ]
  },
  {
   "cell_type": "markdown",
   "metadata": {},
   "source": [
    "---\n",
    "As you can see, our final array (raster_like3) is the same as our original array (raster_like)--we have been successful in all our transformations.  Now you can use **Rasterio**, **Scikit-learn** and **matplotlib** and be able to convert your image data from one structure to another."
   ]
  }
 ],
 "metadata": {
  "kernelspec": {
   "display_name": "Python 3",
   "language": "python",
   "name": "python3"
  },
  "language_info": {
   "codemirror_mode": {
    "name": "ipython",
    "version": 3
   },
   "file_extension": ".py",
   "mimetype": "text/x-python",
   "name": "python",
   "nbconvert_exporter": "python",
   "pygments_lexer": "ipython3",
   "version": "3.6.3"
  }
 },
 "nbformat": 4,
 "nbformat_minor": 2
}
