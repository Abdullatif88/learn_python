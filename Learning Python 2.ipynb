{
 "cells": [
  {
   "cell_type": "markdown",
   "metadata": {},
   "source": [
    "# Learning Python 2\n",
    "\n",
    "This lesson will introduce you to lists, dictionaries and arrays, with some conditional statements and flow control mixed in. Let's get started.\n",
    "\n",
    "The tutorial your are completing is delivered as a Jupyter Notebook. Jupyter runs on top of an installation of Python. Each time you enter something into one of the boxes below, you are entering Python code. Each time you push the Run button above, you tell Python to run the code you have entered into the box. The result of running your code is dispalyed directly below the box where you entered your code."
   ]
  },
  {
   "cell_type": "markdown",
   "metadata": {},
   "source": [
    "## I. Lists"
   ]
  },
  {
   "cell_type": "markdown",
   "metadata": {},
   "source": [
    "Lists are a kind of _compound python data type_ that group together similar items. Lists are part of the core Python library. They are, as the name implies, lists of things. The things may include strings, numbers, or other lists, among other things. Most often lists contain items of the same type--only numbers or only strings, for example. List elements are contained in square brackets and each list item is separated by a comma. We'll start with a list of strings."
   ]
  },
  {
   "cell_type": "markdown",
   "metadata": {},
   "source": [
    "**1. Enter:**\n",
    "```Python\n",
    "my_list = ['hi', 'how', 'are', 'you']\n",
    "```"
   ]
  },
  {
   "cell_type": "markdown",
   "metadata": {},
   "source": [
    "**2. And print it. **"
   ]
  },
  {
   "cell_type": "code",
   "execution_count": 236,
   "metadata": {},
   "outputs": [
    {
     "name": "stdout",
     "output_type": "stream",
     "text": [
      "['hi', 'how', 'are', 'you']\n"
     ]
    }
   ],
   "source": [
    "print(my_list)"
   ]
  },
  {
   "cell_type": "markdown",
   "metadata": {},
   "source": [
    "Lists are similar to strings in that they can both be indexed and sliced. Using what you know about string indexing, \n",
    "\n",
    "**3. Print the 0th element of my_list?**"
   ]
  },
  {
   "cell_type": "code",
   "execution_count": 237,
   "metadata": {},
   "outputs": [
    {
     "name": "stdout",
     "output_type": "stream",
     "text": [
      "hi\n"
     ]
    }
   ],
   "source": [
    "print(my_list[0])"
   ]
  },
  {
   "cell_type": "markdown",
   "metadata": {},
   "source": [
    "All the rules you learned for slicing strings apply equally to lists. So to do the rules for slicing. Let's try one: \n",
    "\n",
    "**4. Print the 2nd and 3rd values of the list my_list.**"
   ]
  },
  {
   "cell_type": "code",
   "execution_count": 238,
   "metadata": {},
   "outputs": [
    {
     "name": "stdout",
     "output_type": "stream",
     "text": [
      "['are', 'you']\n"
     ]
    }
   ],
   "source": [
    "print(my_list[2:])"
   ]
  },
  {
   "cell_type": "markdown",
   "metadata": {},
   "source": [
    "You can also determine the length of the list using the ```len(a_list)``` function. \n",
    "\n",
    "**5. What is the length of my_list**"
   ]
  },
  {
   "cell_type": "code",
   "execution_count": 239,
   "metadata": {},
   "outputs": [
    {
     "name": "stdout",
     "output_type": "stream",
     "text": [
      "4\n"
     ]
    }
   ],
   "source": [
    "print(len(my_list))"
   ]
  },
  {
   "cell_type": "markdown",
   "metadata": {},
   "source": [
    "You will notice that this is the number of elements in the list (it should be 4), even when the numbering begins at 0. The elments in the list begin at 0 and end with 3--there are 4 of them in my_list.\n",
    "\n",
    "**6. Create two new lists that each contains 5 numeric elements. Name them whatever you like**"
   ]
  },
  {
   "cell_type": "code",
   "execution_count": 240,
   "metadata": {},
   "outputs": [],
   "source": [
    "nums1 = [5, 6, 7, 8, 12.1]"
   ]
  },
  {
   "cell_type": "code",
   "execution_count": 241,
   "metadata": {},
   "outputs": [],
   "source": [
    "nums2 = [7, 8, 9, 12, 15]"
   ]
  },
  {
   "cell_type": "markdown",
   "metadata": {},
   "source": [
    "You concatenate lists using the ```+``` operator. \n",
    "\n",
    "**7. Concatenate the lists and assign the result to a new variable named big_nums. Print big_nums' length.**"
   ]
  },
  {
   "cell_type": "code",
   "execution_count": 242,
   "metadata": {},
   "outputs": [],
   "source": [
    "big_nums = nums1 + nums2"
   ]
  },
  {
   "cell_type": "code",
   "execution_count": 243,
   "metadata": {},
   "outputs": [
    {
     "name": "stdout",
     "output_type": "stream",
     "text": [
      "10\n"
     ]
    }
   ],
   "source": [
    "print(len(big_nums))"
   ]
  },
  {
   "cell_type": "markdown",
   "metadata": {},
   "source": [
    "**8. Print the list to see the order of the concatenated elements.**"
   ]
  },
  {
   "cell_type": "code",
   "execution_count": 244,
   "metadata": {},
   "outputs": [
    {
     "name": "stdout",
     "output_type": "stream",
     "text": [
      "[5, 6, 7, 8, 12.1, 7, 8, 9, 12, 15]\n"
     ]
    }
   ],
   "source": [
    "print(big_nums)"
   ]
  },
  {
   "cell_type": "markdown",
   "metadata": {},
   "source": [
    "Depending on the numbers you used, you may or may not notice that the numbers are not sorted--they are in the order in which you concatenated them and as you listed them in the original lists. \n",
    "\n",
    "Lists are mutable, which means their contents can be changed after they are created. To change an existing element you need to index that element and then assign a new value to it using the ```=``` sign.\n",
    "\n",
    "**9. Assign the value of 999 to the 5th element in the list. Print the list**"
   ]
  },
  {
   "cell_type": "code",
   "execution_count": 245,
   "metadata": {},
   "outputs": [],
   "source": [
    "big_nums[5] = 999"
   ]
  },
  {
   "cell_type": "code",
   "execution_count": 246,
   "metadata": {},
   "outputs": [
    {
     "name": "stdout",
     "output_type": "stream",
     "text": [
      "[5, 6, 7, 8, 12.1, 999, 8, 9, 12, 15]\n"
     ]
    }
   ],
   "source": [
    "print(big_nums)"
   ]
  },
  {
   "cell_type": "markdown",
   "metadata": {},
   "source": [
    "You can do this with slices, also. \n",
    "\n",
    "**Enter:**\n",
    "```Python\n",
    "big_nums[3:6] = 1, 1, 1\n",
    "```"
   ]
  },
  {
   "cell_type": "code",
   "execution_count": 247,
   "metadata": {},
   "outputs": [],
   "source": [
    "big_nums[3:6] = [1, 1, \"what is this\"]"
   ]
  },
  {
   "cell_type": "code",
   "execution_count": 248,
   "metadata": {},
   "outputs": [
    {
     "name": "stdout",
     "output_type": "stream",
     "text": [
      "[5, 6, 7, 1, 1, 'what is this', 8, 9, 12, 15]\n"
     ]
    }
   ],
   "source": [
    "print(big_nums)"
   ]
  },
  {
   "cell_type": "markdown",
   "metadata": {},
   "source": [
    "Whoa! What happened? A single list can contain multiple data types--there is no restriction that lists contain elements of the same type. \n",
    "\n",
    "If you want to append an element to the list one the list has been created you can use the ```append``` method. \n",
    "\n",
    "**10. Enter:***\n",
    "```Python\n",
    "big_nums.append(123)\n",
    "```\n",
    "**and then print *big\\_nums***"
   ]
  },
  {
   "cell_type": "code",
   "execution_count": 249,
   "metadata": {},
   "outputs": [],
   "source": [
    "big_nums.append(123)"
   ]
  },
  {
   "cell_type": "code",
   "execution_count": 250,
   "metadata": {},
   "outputs": [
    {
     "name": "stdout",
     "output_type": "stream",
     "text": [
      "[5, 6, 7, 1, 1, 'what is this', 8, 9, 12, 15, 123]\n"
     ]
    }
   ],
   "source": [
    "print(big_nums)"
   ]
  },
  {
   "cell_type": "markdown",
   "metadata": {},
   "source": [
    "Earlier I mentioned that the list was not sorted. Well, we can change that. First, we can only sort a list if it is of a single data type. So...\n",
    "\n",
    "**11. Remove the string from the list, sort like below, then print:**\n",
    "```Python\n",
    "big_nums.pop(5)\n",
    "big_nums.sort()\n",
    "print(big_nums)\n",
    "```"
   ]
  },
  {
   "cell_type": "code",
   "execution_count": 255,
   "metadata": {},
   "outputs": [
    {
     "name": "stdout",
     "output_type": "stream",
     "text": [
      "[1, 1, 5, 6, 7, 9, 12, 15, 123]\n"
     ]
    }
   ],
   "source": [
    "big_nums.pop(5)\n",
    "big_nums.sort()\n",
    "print(big_nums)"
   ]
  },
  {
   "cell_type": "markdown",
   "metadata": {},
   "source": [
    "Check out all the other methods available for lists at [https://docs.python.org/3/tutorial/datastructures.html](https://docs.python.org/3/tutorial/datastructures.html)"
   ]
  },
  {
   "cell_type": "markdown",
   "metadata": {},
   "source": [
    "## II. Flow control\n",
    "\n",
    "- Loops: _for_ and _while_ loops\n",
    "- Conditional statements: _if, then, else_, and _case_ statements"
   ]
  },
  {
   "cell_type": "markdown",
   "metadata": {},
   "source": [
    "## III. Dictionaries"
   ]
  },
  {
   "cell_type": "markdown",
   "metadata": {},
   "source": [
    "## IV. Arrays\n",
    "\n",
    "- Introducing external libraries: Numpy"
   ]
  },
  {
   "cell_type": "code",
   "execution_count": null,
   "metadata": {},
   "outputs": [],
   "source": []
  }
 ],
 "metadata": {
  "kernelspec": {
   "display_name": "Python 3 (Spyder)",
   "language": "python3",
   "name": "python3"
  },
  "language_info": {
   "codemirror_mode": {
    "name": "ipython",
    "version": 3
   },
   "file_extension": ".py",
   "mimetype": "text/x-python",
   "name": "python",
   "nbconvert_exporter": "python",
   "pygments_lexer": "ipython3",
   "version": "3.6.3"
  }
 },
 "nbformat": 4,
 "nbformat_minor": 2
}
